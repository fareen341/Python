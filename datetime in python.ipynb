{
 "cells": [
  {
   "cell_type": "code",
   "execution_count": 7,
   "metadata": {},
   "outputs": [
    {
     "name": "stdout",
     "output_type": "stream",
     "text": [
      "2010-01-29\n"
     ]
    }
   ],
   "source": [
    "#printing the date\n",
    "#make sure to not add 0 in the month or it'll give error, format(year,month,day)\n",
    "import datetime\n",
    "d=datetime.date(2010,1,29)\n",
    "print(d)"
   ]
  },
  {
   "cell_type": "code",
   "execution_count": 11,
   "metadata": {},
   "outputs": [
    {
     "name": "stdout",
     "output_type": "stream",
     "text": [
      "2020-12-22\n",
      "2020\n",
      "1\n",
      "2\n"
     ]
    }
   ],
   "source": [
    "#getting todays date\n",
    "import datetime\n",
    "tday=datetime.date.today()\n",
    "print(tday)\n",
    "\n",
    "#getting only year\n",
    "print(tday.year)\n",
    "\n",
    "#getting weekday (for weekday()=monday is 0 and sunday is 6, for isoweekday monday=1, sunday=7)\n",
    "print(tday.weekday())\n",
    "print(tday.isoweekday())"
   ]
  },
  {
   "cell_type": "code",
   "execution_count": 14,
   "metadata": {},
   "outputs": [
    {
     "name": "stdout",
     "output_type": "stream",
     "text": [
      "2020-12-29\n",
      "2020-12-15\n"
     ]
    }
   ],
   "source": [
    "#to know what will be the date after a week from today & what will be the date a week ago from today using timedelta\n",
    "tday=datetime.date.today()\n",
    "tdelta=datetime.timedelta(days=7)\n",
    "print(tday+tdelta)\n",
    "print(tday-tdelta)"
   ]
  },
  {
   "cell_type": "code",
   "execution_count": 20,
   "metadata": {},
   "outputs": [
    {
     "name": "stdout",
     "output_type": "stream",
     "text": [
      "47 days, 0:00:00\n",
      "4060800.0\n"
     ]
    }
   ],
   "source": [
    "#printing days left for my bday from today\n",
    "bday=datetime.date(2021,2,7)\n",
    "dtoday=datetime.date.today()\n",
    "daysLeft=bday-dtoday\n",
    "print(daysLeft)\n",
    "print(daysLeft.total_seconds())"
   ]
  },
  {
   "cell_type": "code",
   "execution_count": 22,
   "metadata": {},
   "outputs": [
    {
     "name": "stdout",
     "output_type": "stream",
     "text": [
      "09:30:45.100000\n",
      "9\n"
     ]
    }
   ],
   "source": [
    "#working with time(hours,seconds,microseconds)\n",
    "import datetime\n",
    "t=datetime.time(9,30,45,100000)\n",
    "print(t)\n",
    "print(t.hour)"
   ]
  },
  {
   "cell_type": "code",
   "execution_count": 24,
   "metadata": {},
   "outputs": [
    {
     "name": "stdout",
     "output_type": "stream",
     "text": [
      "2020-07-19 12:30:45.100000\n",
      "2020-07-19\n",
      "12:30:45.100000\n"
     ]
    }
   ],
   "source": [
    "#datetime(date,time)\n",
    "dt=datetime.datetime(2020,7,19,12,30,45,100000)\n",
    "print(dt)\n",
    "print(dt.date())\n",
    "print(dt.time())"
   ]
  },
  {
   "cell_type": "code",
   "execution_count": 25,
   "metadata": {},
   "outputs": [
    {
     "name": "stdout",
     "output_type": "stream",
     "text": [
      "2020-12-22 07:37:17.971987\n",
      "2020-12-22 07:37:17.971987\n",
      "2020-12-22 02:07:17.971987\n"
     ]
    }
   ],
   "source": [
    "#datetime.today,now,utcnow\n",
    "#today return local datetime with timezone of none , now gives us the option to pass timezone\n",
    "dt_tday=datetime.datetime.today()\n",
    "print(dt_tday)\n",
    "dt_now=datetime.datetime.now()\n",
    "print(dt_now)\n",
    "dt_utcnow=datetime.datetime.utcnow()\n",
    "print(dt_utcnow)"
   ]
  },
  {
   "cell_type": "code",
   "execution_count": 37,
   "metadata": {},
   "outputs": [
    {
     "name": "stdout",
     "output_type": "stream",
     "text": [
      "02:26:43.126670\n"
     ]
    }
   ],
   "source": [
    "#to get Universal Time Coordinated(UTC) time, use pytz which python recommend when working with UTC timezone.\n",
    "import pytz\n",
    "dt_now=datetime.datetime.now(tz=pytz.UTC)\n",
    "print(dt_now.time())\n"
   ]
  },
  {
   "cell_type": "code",
   "execution_count": 31,
   "metadata": {},
   "outputs": [
    {
     "name": "stdout",
     "output_type": "stream",
     "text": [
      "07:52:28.381075\n"
     ]
    }
   ],
   "source": [
    "dt_tday=datetime.datetime.today()\n",
    "print(dt_tday.time())"
   ]
  },
  {
   "cell_type": "code",
   "execution_count": 45,
   "metadata": {},
   "outputs": [
    {
     "name": "stdout",
     "output_type": "stream",
     "text": [
      "2020-12-22 02:38:49.723215+00:00\n",
      "2020-12-21 19:38:49.723215-07:00\n"
     ]
    }
   ],
   "source": [
    "#print(pytz.all_timezones)\n",
    "import pytz\n",
    "dt_now=datetime.datetime.now(tz=pytz.UTC)\n",
    "print(dt_now)\n",
    "dt_india=dt_now.astimezone(pytz.timezone('US/Mountain'))\n",
    "print(dt_india)\n",
    "\n",
    "#-07:00 which give the UTC difference , so Us/Mountain has 7 hours of difference to UTC time."
   ]
  },
  {
   "cell_type": "code",
   "execution_count": 55,
   "metadata": {},
   "outputs": [
    {
     "name": "stdout",
     "output_type": "stream",
     "text": [
      "December 21, 2020\n"
     ]
    },
    {
     "data": {
      "text/plain": [
       "str"
      ]
     },
     "execution_count": 55,
     "metadata": {},
     "output_type": "execute_result"
    }
   ],
   "source": [
    "#printing the datetime info of US/Mountain\n",
    "#strftime=Datetime to string\n",
    "#strptime=string to datetime\n",
    "dt=datetime.datetime.now(tz=pytz.timezone('US/Mountain'))\n",
    "k=dt.strftime('%B %d, %Y')\n",
    "print(k)\n",
    "type(k)\n",
    "\n",
    "#('%B %d, %Y') these types of formats are available on python documentation."
   ]
  },
  {
   "cell_type": "code",
   "execution_count": 56,
   "metadata": {},
   "outputs": [
    {
     "name": "stdout",
     "output_type": "stream",
     "text": [
      "2020-12-21 00:00:00\n"
     ]
    },
    {
     "data": {
      "text/plain": [
       "datetime.datetime"
      ]
     },
     "execution_count": 56,
     "metadata": {},
     "output_type": "execute_result"
    }
   ],
   "source": [
    "#to convert the string date into datetime.\n",
    "dt_str='December 21, 2020'\n",
    "dt=datetime.datetime.strptime(dt_str,'%B %d, %Y')\n",
    "print(dt)\n",
    "type(dt)"
   ]
  },
  {
   "cell_type": "code",
   "execution_count": null,
   "metadata": {},
   "outputs": [],
   "source": []
  }
 ],
 "metadata": {
  "kernelspec": {
   "display_name": "Python 3",
   "language": "python",
   "name": "python3"
  },
  "language_info": {
   "codemirror_mode": {
    "name": "ipython",
    "version": 3
   },
   "file_extension": ".py",
   "mimetype": "text/x-python",
   "name": "python",
   "nbconvert_exporter": "python",
   "pygments_lexer": "ipython3",
   "version": "3.8.3"
  }
 },
 "nbformat": 4,
 "nbformat_minor": 4
}
